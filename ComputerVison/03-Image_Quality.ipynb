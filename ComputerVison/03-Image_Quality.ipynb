{
 "cells": [
  {
   "cell_type": "code",
   "execution_count": 3,
   "metadata": {},
   "outputs": [
    {
     "data": {
      "text/plain": [
       "True"
      ]
     },
     "execution_count": 3,
     "metadata": {},
     "output_type": "execute_result"
    }
   ],
   "source": [
    "# JPG\n",
    "import cv2\n",
    "img=cv2.imread('../../Assets/Images/image0.jpg',1)\n",
    "cv2.imwrite('../../Assets/Images/output0.jpg',img, [cv2.IMWRITE_JPEG_QUALITY,10]) #0-100 loss zip\n",
    "#the lower the value the image more bluer"
   ]
  },
  {
   "cell_type": "code",
   "execution_count": 4,
   "metadata": {},
   "outputs": [
    {
     "data": {
      "text/plain": [
       "True"
      ]
     },
     "execution_count": 4,
     "metadata": {},
     "output_type": "execute_result"
    }
   ],
   "source": [
    "#PNG\n",
    "import cv2\n",
    "img=cv2.imread('../../Assets/Images/HSR.png',1)\n",
    "cv2.imwrite('../../Assets/Images/output0.png',img, [cv2.IMWRITE_JPEG_QUALITY,0]) #0-9 unloss zip\n",
    "# The higher the value the more bluer"
   ]
  },
  {
   "cell_type": "code",
   "execution_count": null,
   "metadata": {},
   "outputs": [],
   "source": []
  }
 ],
 "metadata": {
  "kernelspec": {
   "display_name": "Python 3",
   "language": "python",
   "name": "python3"
  },
  "language_info": {
   "codemirror_mode": {
    "name": "ipython",
    "version": 3
   },
   "file_extension": ".py",
   "mimetype": "text/x-python",
   "name": "python",
   "nbconvert_exporter": "python",
   "pygments_lexer": "ipython3",
   "version": "3.6.6"
  }
 },
 "nbformat": 4,
 "nbformat_minor": 2
}
